{
 "cells": [
  {
   "cell_type": "markdown",
   "id": "least-marijuana",
   "metadata": {},
   "source": [
    "# Exploratory Data Analysis\n",
    "\n",
    "___\n",
    "In this section, the cleaned DataFrames will be uploaded and the data will be visually analyzed. The exploration will begin with the full DataFrames to see if any trends are seen overall before breaking out into the position specific DataFrames. \n",
    "\n",
    "It will be important to analyze the positional DataFrames as that is how the models will be built. "
   ]
  }
 ],
 "metadata": {
  "kernelspec": {
   "display_name": "Python 3",
   "language": "python",
   "name": "python3"
  },
  "language_info": {
   "codemirror_mode": {
    "name": "ipython",
    "version": 3
   },
   "file_extension": ".py",
   "mimetype": "text/x-python",
   "name": "python",
   "nbconvert_exporter": "python",
   "pygments_lexer": "ipython3",
   "version": "3.8.5"
  }
 },
 "nbformat": 4,
 "nbformat_minor": 5
}
