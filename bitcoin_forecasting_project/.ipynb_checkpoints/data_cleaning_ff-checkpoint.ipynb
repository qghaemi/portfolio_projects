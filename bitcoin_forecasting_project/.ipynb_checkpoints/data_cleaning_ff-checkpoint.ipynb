{
 "cells": [
  {
   "cell_type": "markdown",
   "id": "perceived-pottery",
   "metadata": {},
   "source": [
    "# Data Importing and Cleaning\n",
    "\n",
    "___\n",
    "In this notebook, the data files from [this site](https://www.fantasyfootballdatapros.com/csv_files) were downloaded onto my local drive. I chose to use only the years 2011 through 2019 as those are the most recent years available. \n",
    "\n",
    "I then had to track down 2020 final rankings in order to serve as my testing data from [fantasy data](https://fantasydata.com/nfl/fantasy-football-leaders?season=2020&seasontype=1&scope=1&subscope=1&scoringsystem=2&aggregatescope=1&range=3). "
   ]
  },
  {
   "cell_type": "markdown",
   "id": "great-gazette",
   "metadata": {},
   "source": [
    "### Import Libraries"
   ]
  },
  {
   "cell_type": "code",
   "execution_count": 1,
   "id": "continuing-period",
   "metadata": {},
   "outputs": [],
   "source": [
    "import pandas as pd\n",
    "import os\n",
    "import numpy as np"
   ]
  },
  {
   "cell_type": "markdown",
   "id": "underlying-breakfast",
   "metadata": {},
   "source": [
    "### Importing Training and Testing Data\n",
    "\n",
    "In this section the training and testing data is separated. As the training data came from multiple csv files, the cloeaning process for those files occured when they were being read in (see below for loop). The test file was cleaned in the next section."
   ]
  },
  {
   "cell_type": "code",
   "execution_count": 2,
   "id": "equivalent-elimination",
   "metadata": {},
   "outputs": [
    {
     "data": {
      "text/plain": [
       "['2019.csv',\n",
       " '2018.csv',\n",
       " '2015.csv',\n",
       " '2014.csv',\n",
       " '2016.csv',\n",
       " '2017.csv',\n",
       " '2013.csv',\n",
       " '2012.csv',\n",
       " '2011.csv']"
      ]
     },
     "execution_count": 2,
     "metadata": {},
     "output_type": "execute_result"
    }
   ],
   "source": [
    "# upload the training dfs (yrs 2011-2019)\n",
    "training = os.listdir('/Users/qghaemi/Desktop/ff_data/training')\n",
    "\n",
    "# show training to confirm it worked\n",
    "training"
   ]
  },
  {
   "cell_type": "code",
   "execution_count": 3,
   "id": "accepting-printing",
   "metadata": {},
   "outputs": [
    {
     "data": {
      "text/html": [
       "<div>\n",
       "<style scoped>\n",
       "    .dataframe tbody tr th:only-of-type {\n",
       "        vertical-align: middle;\n",
       "    }\n",
       "\n",
       "    .dataframe tbody tr th {\n",
       "        vertical-align: top;\n",
       "    }\n",
       "\n",
       "    .dataframe thead th {\n",
       "        text-align: right;\n",
       "    }\n",
       "</style>\n",
       "<table border=\"1\" class=\"dataframe\">\n",
       "  <thead>\n",
       "    <tr style=\"text-align: right;\">\n",
       "      <th></th>\n",
       "      <th>Unnamed: 0</th>\n",
       "      <th>Player</th>\n",
       "      <th>Tm</th>\n",
       "      <th>Pos</th>\n",
       "      <th>G</th>\n",
       "      <th>PassingYds</th>\n",
       "      <th>PassingTD</th>\n",
       "      <th>Int</th>\n",
       "      <th>RushingYds</th>\n",
       "      <th>RushingTD</th>\n",
       "      <th>Rec</th>\n",
       "      <th>ReceivingYds</th>\n",
       "      <th>ReceivingTD</th>\n",
       "      <th>FantasyPoints</th>\n",
       "    </tr>\n",
       "  </thead>\n",
       "  <tbody>\n",
       "    <tr>\n",
       "      <th>0</th>\n",
       "      <td>1</td>\n",
       "      <td>Josh Allen</td>\n",
       "      <td>BUF</td>\n",
       "      <td>QB</td>\n",
       "      <td>16</td>\n",
       "      <td>4544</td>\n",
       "      <td>37</td>\n",
       "      <td>10</td>\n",
       "      <td>421</td>\n",
       "      <td>8</td>\n",
       "      <td>1</td>\n",
       "      <td>12</td>\n",
       "      <td>1</td>\n",
       "      <td>396.06</td>\n",
       "    </tr>\n",
       "    <tr>\n",
       "      <th>1</th>\n",
       "      <td>2</td>\n",
       "      <td>Aaron Rodgers</td>\n",
       "      <td>GB</td>\n",
       "      <td>QB</td>\n",
       "      <td>16</td>\n",
       "      <td>4299</td>\n",
       "      <td>48</td>\n",
       "      <td>5</td>\n",
       "      <td>149</td>\n",
       "      <td>3</td>\n",
       "      <td>1</td>\n",
       "      <td>-6</td>\n",
       "      <td>0</td>\n",
       "      <td>383.26</td>\n",
       "    </tr>\n",
       "    <tr>\n",
       "      <th>2</th>\n",
       "      <td>3</td>\n",
       "      <td>Kyler Murray</td>\n",
       "      <td>ARI</td>\n",
       "      <td>QB</td>\n",
       "      <td>16</td>\n",
       "      <td>3971</td>\n",
       "      <td>26</td>\n",
       "      <td>12</td>\n",
       "      <td>819</td>\n",
       "      <td>11</td>\n",
       "      <td>0</td>\n",
       "      <td>0</td>\n",
       "      <td>0</td>\n",
       "      <td>378.74</td>\n",
       "    </tr>\n",
       "    <tr>\n",
       "      <th>3</th>\n",
       "      <td>4</td>\n",
       "      <td>Alvin Kamara</td>\n",
       "      <td>NO</td>\n",
       "      <td>RB</td>\n",
       "      <td>15</td>\n",
       "      <td>0</td>\n",
       "      <td>0</td>\n",
       "      <td>0</td>\n",
       "      <td>932</td>\n",
       "      <td>16</td>\n",
       "      <td>83</td>\n",
       "      <td>756</td>\n",
       "      <td>5</td>\n",
       "      <td>377.80</td>\n",
       "    </tr>\n",
       "    <tr>\n",
       "      <th>4</th>\n",
       "      <td>5</td>\n",
       "      <td>Patrick Mahomes</td>\n",
       "      <td>KC</td>\n",
       "      <td>QB</td>\n",
       "      <td>15</td>\n",
       "      <td>4740</td>\n",
       "      <td>38</td>\n",
       "      <td>6</td>\n",
       "      <td>308</td>\n",
       "      <td>2</td>\n",
       "      <td>0</td>\n",
       "      <td>0</td>\n",
       "      <td>0</td>\n",
       "      <td>374.40</td>\n",
       "    </tr>\n",
       "  </tbody>\n",
       "</table>\n",
       "</div>"
      ],
      "text/plain": [
       "   Unnamed: 0           Player   Tm Pos   G  PassingYds  PassingTD  Int  \\\n",
       "0           1       Josh Allen  BUF  QB  16        4544         37   10   \n",
       "1           2    Aaron Rodgers   GB  QB  16        4299         48    5   \n",
       "2           3     Kyler Murray  ARI  QB  16        3971         26   12   \n",
       "3           4     Alvin Kamara   NO  RB  15           0          0    0   \n",
       "4           5  Patrick Mahomes   KC  QB  15        4740         38    6   \n",
       "\n",
       "   RushingYds  RushingTD  Rec  ReceivingYds  ReceivingTD  FantasyPoints  \n",
       "0         421          8    1            12            1         396.06  \n",
       "1         149          3    1            -6            0         383.26  \n",
       "2         819         11    0             0            0         378.74  \n",
       "3         932         16   83           756            5         377.80  \n",
       "4         308          2    0             0            0         374.40  "
      ]
     },
     "execution_count": 3,
     "metadata": {},
     "output_type": "execute_result"
    }
   ],
   "source": [
    "# upload the testing df\n",
    "test_df = pd.read_csv('/Users/qghaemi/Desktop/ff_data/2020.csv')\n",
    "\n",
    "# confirm the upload worked\n",
    "test_df.head()"
   ]
  },
  {
   "cell_type": "code",
   "execution_count": 4,
   "id": "julian-columbus",
   "metadata": {},
   "outputs": [
    {
     "name": "stdout",
     "output_type": "stream",
     "text": [
      "<class 'pandas.core.frame.DataFrame'>\n",
      "RangeIndex: 620 entries, 0 to 619\n",
      "Data columns (total 12 columns):\n",
      " #   Column          Non-Null Count  Dtype  \n",
      "---  ------          --------------  -----  \n",
      " 0   player          620 non-null    object \n",
      " 1   position        620 non-null    object \n",
      " 2   games           620 non-null    float64\n",
      " 3   interceptions   620 non-null    float64\n",
      " 4   receptions      620 non-null    float64\n",
      " 5   passing_yds     620 non-null    float64\n",
      " 6   passing_td      620 non-null    float64\n",
      " 7   rushing_yds     620 non-null    float64\n",
      " 8   rushing_td      620 non-null    float64\n",
      " 9   receiving_yds   620 non-null    float64\n",
      " 10  receiving_td    620 non-null    float64\n",
      " 11  fantasy_points  620 non-null    float64\n",
      "dtypes: float64(10), object(2)\n",
      "memory usage: 58.2+ KB\n"
     ]
    }
   ],
   "source": [
    "# upload one file from training as a trial run - will create a loop to iterate this process\n",
    "df = pd.read_csv('/Users/qghaemi/Desktop/ff_data/training/2019.csv')\n",
    "\n",
    "# confirm this worked\n",
    "df.head()\n",
    "\n",
    "# check what rows will need to be changed\n",
    "#df.info()\n",
    "\n",
    "# columns to drop: tm, attYds Att.1 Yds.1 Yds.2, Y/R\n",
    "# should also drop columns that are not in testing df: \n",
    "df.drop(columns=['Unnamed: 0', 'Tm', 'Att', 'Yds', 'Att.1', 'Yds.1', 'Yds.2', 'Y/R', 'RushingAtt', 'Age',\n",
    "                'GS', 'Cmp', 'Tgt', 'Fumbles', 'FumblesLost', 'PassingAtt'], inplace=True)\n",
    "\n",
    "\n",
    "\n",
    "\n",
    "# change column names to snakecase\n",
    "df.rename(columns={\n",
    "    'Player': 'player',\n",
    "    'Pos': 'position',\n",
    "    'G':'games',\n",
    "    'Rec':'receptions',\n",
    "    'PassingYds':'passing_yds',\n",
    "    'PassingTD':'passing_td',\n",
    "    'ReceivingYds':'receiving_yds',\n",
    "    'ReceivingTD': 'receiving_td',\n",
    "    'FantasyPoints':'fantasy_points',\n",
    "    'RushingYds': 'rushing_yds', \n",
    "    'RushingTD':'rushing_td',\n",
    "    'Int': 'interceptions'\n",
    "}, inplace=True)\n",
    "\n",
    "df.info()"
   ]
  },
  {
   "cell_type": "code",
   "execution_count": 5,
   "id": "editorial-noise",
   "metadata": {},
   "outputs": [
    {
     "data": {
      "text/plain": [
       "9"
      ]
     },
     "execution_count": 5,
     "metadata": {},
     "output_type": "execute_result"
    }
   ],
   "source": [
    "# generate an empty list will populate this with \n",
    "training_list = []\n",
    "# loop through each csv file in the training dir\n",
    "# will want to add a column that will include the year that data is from (will be important when data is merged)\n",
    "for i in training:\n",
    "    \n",
    "    # read in the csv file\n",
    "    new_df = pd.read_csv(f'/Users/qghaemi/Desktop/ff_data/training/{i}')\n",
    "    \n",
    "    # drop columns\n",
    "    new_df.drop(columns=['Unnamed: 0', 'Tm', 'Att', 'Yds', 'Att.1', 'Yds.1', 'Yds.2', 'Y/R', 'RushingAtt', 'Age',\n",
    "                         'GS', 'Cmp', 'Tgt', 'Fumbles', 'FumblesLost', 'PassingAtt'], inplace=True)\n",
    "    \n",
    "    # rename columns\n",
    "    new_df.rename(columns={\n",
    "        'Player': 'player',\n",
    "        'Pos': 'position',\n",
    "        'G':'games',\n",
    "        'Rec':'receptions',\n",
    "        'PassingYds':'passing_yds',\n",
    "        'PassingTD':'passing_td',\n",
    "        'ReceivingYds':'receiving_yds',\n",
    "        'ReceivingTD': 'receiving_td',\n",
    "        'FantasyPoints':'fantasy_points',\n",
    "        'RushingYds': 'rushing_yds', \n",
    "        'RushingTD':'rushing_td',\n",
    "        'Int': 'interceptions'\n",
    "}, inplace=True)\n",
    "    \n",
    "    # create the year col | use split to split the name and only keep the year\n",
    "    new_df['year'] = i.split('.')[0]\n",
    "    \n",
    "    # change col type to int\n",
    "    new_df['year']= new_df['year'].astype(int)\n",
    "    \n",
    "    # append each df to the empty list\n",
    "    training_list.append(new_df)\n",
    "    \n",
    "# confirm the length of training_list should be 9 df's\n",
    "len(training_list)"
   ]
  },
  {
   "cell_type": "code",
   "execution_count": 6,
   "id": "interested-scoop",
   "metadata": {},
   "outputs": [
    {
     "name": "stdout",
     "output_type": "stream",
     "text": [
      "<class 'pandas.core.frame.DataFrame'>\n",
      "Int64Index: 5574 entries, 0 to 584\n",
      "Data columns (total 13 columns):\n",
      " #   Column          Non-Null Count  Dtype  \n",
      "---  ------          --------------  -----  \n",
      " 0   player          5574 non-null   object \n",
      " 1   position        5574 non-null   object \n",
      " 2   games           5574 non-null   float64\n",
      " 3   interceptions   5574 non-null   float64\n",
      " 4   receptions      5574 non-null   float64\n",
      " 5   passing_yds     5574 non-null   float64\n",
      " 6   passing_td      5574 non-null   float64\n",
      " 7   rushing_yds     5574 non-null   float64\n",
      " 8   rushing_td      5574 non-null   float64\n",
      " 9   receiving_yds   5574 non-null   float64\n",
      " 10  receiving_td    5574 non-null   float64\n",
      " 11  fantasy_points  5574 non-null   float64\n",
      " 12  year            5574 non-null   int64  \n",
      "dtypes: float64(10), int64(1), object(2)\n",
      "memory usage: 609.7+ KB\n"
     ]
    }
   ],
   "source": [
    "# concat all the dfs together\n",
    "full_training_df = pd.concat(training_list)\n",
    "\n",
    "# check fulltrainingdf\n",
    "full_training_df.info()"
   ]
  },
  {
   "cell_type": "code",
   "execution_count": 7,
   "id": "divided-stylus",
   "metadata": {},
   "outputs": [
    {
     "data": {
      "text/plain": [
       "2014    725\n",
       "2012    688\n",
       "2018    622\n",
       "2019    620\n",
       "2015    595\n",
       "2011    585\n",
       "2016    584\n",
       "2013    584\n",
       "2017    571\n",
       "Name: year, dtype: int64"
      ]
     },
     "execution_count": 7,
     "metadata": {},
     "output_type": "execute_result"
    }
   ],
   "source": [
    "# confirm there are the right year values in the year col\n",
    "full_training_df.year.value_counts()"
   ]
  },
  {
   "cell_type": "markdown",
   "id": "integral-innocent",
   "metadata": {},
   "source": [
    "This is interesting that there are uneven numbers of information from each year, however this does make sense as the same players do not play every year. There is bound to be some years that see more players participate in a game thus showing up in these data sets. As we are most focused in finding the rankings, and even more focused on the top rankings, opting to cut some of the data from the bottom half of the years could make sense.\n",
    "\n",
    "It is important to preserve as much data as possible for now as this large dataframes will need to be broken up by position in order to better process the fantasy scores. "
   ]
  },
  {
   "cell_type": "code",
   "execution_count": 8,
   "id": "specified-coral",
   "metadata": {},
   "outputs": [
    {
     "data": {
      "text/plain": [
       "array(['RB', 'QB', 'WR', 'TE', '0'], dtype=object)"
      ]
     },
     "execution_count": 8,
     "metadata": {},
     "output_type": "execute_result"
    }
   ],
   "source": [
    "# show unique values in position col\n",
    "full_training_df.position.unique()"
   ]
  },
  {
   "cell_type": "code",
   "execution_count": 9,
   "id": "modified-jewelry",
   "metadata": {},
   "outputs": [
    {
     "name": "stdout",
     "output_type": "stream",
     "text": [
      "699\n"
     ]
    },
    {
     "data": {
      "text/plain": [
       "-34.0"
      ]
     },
     "execution_count": 9,
     "metadata": {},
     "output_type": "execute_result"
    }
   ],
   "source": [
    "# check what the 0 position type leads to, my guess is players who either play multiple positions or did not play enough\n",
    "full_training_df[full_training_df['position']=='0']\n",
    "\n",
    "# show how many observations fall in this category\n",
    "print(len(full_training_df[full_training_df['position']=='0']))\n",
    "\n",
    "# show the sum of fantasy points for players in this grouping, if it is low enough can ignore these players\n",
    "full_training_df[full_training_df['position']=='0']['fantasy_points'].sum()"
   ]
  },
  {
   "cell_type": "code",
   "execution_count": 10,
   "id": "spanish-greenhouse",
   "metadata": {},
   "outputs": [],
   "source": [
    "# drop the observations that have a pos value of '0'\n",
    "full_training_df = full_training_df[full_training_df['position'] != '0']"
   ]
  },
  {
   "cell_type": "markdown",
   "id": "bored-spider",
   "metadata": {},
   "source": [
    "Given the negative total Fantasy Points scored for almost 700 players comes out to a negative number, ignoring these players should allow our model to perform much better."
   ]
  },
  {
   "cell_type": "code",
   "execution_count": 11,
   "id": "american-sweden",
   "metadata": {},
   "outputs": [
    {
     "data": {
      "text/html": [
       "<div>\n",
       "<style scoped>\n",
       "    .dataframe tbody tr th:only-of-type {\n",
       "        vertical-align: middle;\n",
       "    }\n",
       "\n",
       "    .dataframe tbody tr th {\n",
       "        vertical-align: top;\n",
       "    }\n",
       "\n",
       "    .dataframe thead th {\n",
       "        text-align: right;\n",
       "    }\n",
       "</style>\n",
       "<table border=\"1\" class=\"dataframe\">\n",
       "  <thead>\n",
       "    <tr style=\"text-align: right;\">\n",
       "      <th></th>\n",
       "      <th>player</th>\n",
       "      <th>position</th>\n",
       "      <th>games</th>\n",
       "      <th>interceptions</th>\n",
       "      <th>receptions</th>\n",
       "      <th>passing_yds</th>\n",
       "      <th>passing_td</th>\n",
       "      <th>rushing_yds</th>\n",
       "      <th>rushing_td</th>\n",
       "      <th>receiving_yds</th>\n",
       "      <th>receiving_td</th>\n",
       "      <th>fantasy_points</th>\n",
       "      <th>year</th>\n",
       "    </tr>\n",
       "  </thead>\n",
       "  <tbody>\n",
       "    <tr>\n",
       "      <th>0</th>\n",
       "      <td>Christian McCaffrey</td>\n",
       "      <td>RB</td>\n",
       "      <td>16.0</td>\n",
       "      <td>0.0</td>\n",
       "      <td>116.0</td>\n",
       "      <td>0.0</td>\n",
       "      <td>0.0</td>\n",
       "      <td>1387.0</td>\n",
       "      <td>15.0</td>\n",
       "      <td>1005.0</td>\n",
       "      <td>4.0</td>\n",
       "      <td>469.20</td>\n",
       "      <td>2019</td>\n",
       "    </tr>\n",
       "    <tr>\n",
       "      <th>1</th>\n",
       "      <td>Lamar Jackson</td>\n",
       "      <td>QB</td>\n",
       "      <td>15.0</td>\n",
       "      <td>6.0</td>\n",
       "      <td>0.0</td>\n",
       "      <td>3127.0</td>\n",
       "      <td>36.0</td>\n",
       "      <td>1206.0</td>\n",
       "      <td>7.0</td>\n",
       "      <td>0.0</td>\n",
       "      <td>0.0</td>\n",
       "      <td>415.68</td>\n",
       "      <td>2019</td>\n",
       "    </tr>\n",
       "    <tr>\n",
       "      <th>2</th>\n",
       "      <td>Derrick Henry</td>\n",
       "      <td>RB</td>\n",
       "      <td>15.0</td>\n",
       "      <td>0.0</td>\n",
       "      <td>18.0</td>\n",
       "      <td>0.0</td>\n",
       "      <td>0.0</td>\n",
       "      <td>1540.0</td>\n",
       "      <td>16.0</td>\n",
       "      <td>206.0</td>\n",
       "      <td>2.0</td>\n",
       "      <td>294.60</td>\n",
       "      <td>2019</td>\n",
       "    </tr>\n",
       "    <tr>\n",
       "      <th>3</th>\n",
       "      <td>Aaron Jones</td>\n",
       "      <td>RB</td>\n",
       "      <td>16.0</td>\n",
       "      <td>0.0</td>\n",
       "      <td>49.0</td>\n",
       "      <td>0.0</td>\n",
       "      <td>0.0</td>\n",
       "      <td>1084.0</td>\n",
       "      <td>16.0</td>\n",
       "      <td>474.0</td>\n",
       "      <td>3.0</td>\n",
       "      <td>314.80</td>\n",
       "      <td>2019</td>\n",
       "    </tr>\n",
       "    <tr>\n",
       "      <th>4</th>\n",
       "      <td>Ezekiel Elliott</td>\n",
       "      <td>RB</td>\n",
       "      <td>16.0</td>\n",
       "      <td>0.0</td>\n",
       "      <td>54.0</td>\n",
       "      <td>0.0</td>\n",
       "      <td>0.0</td>\n",
       "      <td>1357.0</td>\n",
       "      <td>12.0</td>\n",
       "      <td>420.0</td>\n",
       "      <td>2.0</td>\n",
       "      <td>311.70</td>\n",
       "      <td>2019</td>\n",
       "    </tr>\n",
       "  </tbody>\n",
       "</table>\n",
       "</div>"
      ],
      "text/plain": [
       "                player position  games  interceptions  receptions  \\\n",
       "0  Christian McCaffrey       RB   16.0            0.0       116.0   \n",
       "1        Lamar Jackson       QB   15.0            6.0         0.0   \n",
       "2        Derrick Henry       RB   15.0            0.0        18.0   \n",
       "3          Aaron Jones       RB   16.0            0.0        49.0   \n",
       "4      Ezekiel Elliott       RB   16.0            0.0        54.0   \n",
       "\n",
       "   passing_yds  passing_td  rushing_yds  rushing_td  receiving_yds  \\\n",
       "0          0.0         0.0       1387.0        15.0         1005.0   \n",
       "1       3127.0        36.0       1206.0         7.0            0.0   \n",
       "2          0.0         0.0       1540.0        16.0          206.0   \n",
       "3          0.0         0.0       1084.0        16.0          474.0   \n",
       "4          0.0         0.0       1357.0        12.0          420.0   \n",
       "\n",
       "   receiving_td  fantasy_points  year  \n",
       "0           4.0          469.20  2019  \n",
       "1           0.0          415.68  2019  \n",
       "2           2.0          294.60  2019  \n",
       "3           3.0          314.80  2019  \n",
       "4           2.0          311.70  2019  "
      ]
     },
     "execution_count": 11,
     "metadata": {},
     "output_type": "execute_result"
    }
   ],
   "source": [
    "# show the first five of full_training_df\n",
    "full_training_df.head()"
   ]
  },
  {
   "cell_type": "markdown",
   "id": "senior-waste",
   "metadata": {},
   "source": [
    "### Data Cleaning: Test Data\n",
    "\n",
    "___\n",
    "In this section the testing dataframe was cleaned."
   ]
  },
  {
   "cell_type": "code",
   "execution_count": 12,
   "id": "consistent-world",
   "metadata": {},
   "outputs": [
    {
     "name": "stdout",
     "output_type": "stream",
     "text": [
      "<class 'pandas.core.frame.DataFrame'>\n",
      "RangeIndex: 300 entries, 0 to 299\n",
      "Data columns (total 14 columns):\n",
      " #   Column         Non-Null Count  Dtype  \n",
      "---  ------         --------------  -----  \n",
      " 0   Unnamed: 0     300 non-null    int64  \n",
      " 1   Player         300 non-null    object \n",
      " 2   Tm             300 non-null    object \n",
      " 3   Pos            300 non-null    object \n",
      " 4   G              300 non-null    int64  \n",
      " 5   PassingYds     300 non-null    int64  \n",
      " 6   PassingTD      300 non-null    int64  \n",
      " 7   Int            300 non-null    int64  \n",
      " 8   RushingYds     300 non-null    int64  \n",
      " 9   RushingTD      300 non-null    int64  \n",
      " 10  Rec            300 non-null    int64  \n",
      " 11  ReceivingYds   300 non-null    int64  \n",
      " 12  ReceivingTD    300 non-null    int64  \n",
      " 13  FantasyPoints  300 non-null    float64\n",
      "dtypes: float64(1), int64(10), object(3)\n",
      "memory usage: 32.9+ KB\n"
     ]
    }
   ],
   "source": [
    "# show testing info\n",
    "test_df.info()"
   ]
  },
  {
   "cell_type": "code",
   "execution_count": 13,
   "id": "dedicated-correction",
   "metadata": {},
   "outputs": [],
   "source": [
    "# drop cols: unnamed:0, Tm, \n",
    "test_df.drop(columns=['Unnamed: 0', 'Tm'], inplace=True)\n",
    "\n",
    "# rename columns to snakecase\n",
    "test_df.rename(columns={\n",
    "    'Player': 'player',\n",
    "    'Pos': 'position',\n",
    "    'G':'games',\n",
    "    'Rec':'receptions',\n",
    "    'PassingYds':'passing_yds',\n",
    "    'PassingTD':'passing_td',\n",
    "    'ReceivingYds':'receiving_yds',\n",
    "    'ReceivingTD': 'receiving_td',\n",
    "    'FantasyPoints':'fantasy_points',\n",
    "    'RushingYds': 'rushing_yds',\n",
    "    'RushingTD':'rushing_td',\n",
    "    'Int': 'interceptions'\n",
    "}, inplace=True)"
   ]
  },
  {
   "cell_type": "code",
   "execution_count": 14,
   "id": "english-brooklyn",
   "metadata": {},
   "outputs": [],
   "source": [
    "# add a year column to testing data\n",
    "test_df['year'] = 2020"
   ]
  },
  {
   "cell_type": "code",
   "execution_count": 15,
   "id": "impossible-german",
   "metadata": {},
   "outputs": [
    {
     "name": "stdout",
     "output_type": "stream",
     "text": [
      "<class 'pandas.core.frame.DataFrame'>\n",
      "RangeIndex: 300 entries, 0 to 299\n",
      "Data columns (total 13 columns):\n",
      " #   Column          Non-Null Count  Dtype  \n",
      "---  ------          --------------  -----  \n",
      " 0   player          300 non-null    object \n",
      " 1   position        300 non-null    object \n",
      " 2   games           300 non-null    int64  \n",
      " 3   passing_yds     300 non-null    int64  \n",
      " 4   passing_td      300 non-null    int64  \n",
      " 5   interceptions   300 non-null    int64  \n",
      " 6   rushing_yds     300 non-null    int64  \n",
      " 7   rushing_td      300 non-null    int64  \n",
      " 8   receptions      300 non-null    int64  \n",
      " 9   receiving_yds   300 non-null    int64  \n",
      " 10  receiving_td    300 non-null    int64  \n",
      " 11  fantasy_points  300 non-null    float64\n",
      " 12  year            300 non-null    int64  \n",
      "dtypes: float64(1), int64(10), object(2)\n",
      "memory usage: 30.6+ KB\n"
     ]
    }
   ],
   "source": [
    "# confirm the changes have been made\n",
    "test_df.info()"
   ]
  },
  {
   "cell_type": "code",
   "execution_count": 16,
   "id": "pressing-andrews",
   "metadata": {},
   "outputs": [
    {
     "data": {
      "text/plain": [
       "Index(['player', 'position', 'games', 'passing_yds', 'passing_td',\n",
       "       'interceptions', 'rushing_yds', 'rushing_td', 'receptions',\n",
       "       'receiving_yds', 'receiving_td', 'fantasy_points', 'year'],\n",
       "      dtype='object')"
      ]
     },
     "execution_count": 16,
     "metadata": {},
     "output_type": "execute_result"
    }
   ],
   "source": [
    "test_df.columns"
   ]
  },
  {
   "cell_type": "code",
   "execution_count": 17,
   "id": "bacterial-breathing",
   "metadata": {},
   "outputs": [
    {
     "data": {
      "text/plain": [
       "Index(['player', 'position', 'games', 'interceptions', 'receptions',\n",
       "       'passing_yds', 'passing_td', 'rushing_yds', 'rushing_td',\n",
       "       'receiving_yds', 'receiving_td', 'fantasy_points', 'year'],\n",
       "      dtype='object')"
      ]
     },
     "execution_count": 17,
     "metadata": {},
     "output_type": "execute_result"
    }
   ],
   "source": [
    "full_training_df.columns"
   ]
  },
  {
   "cell_type": "code",
   "execution_count": 18,
   "id": "international-alabama",
   "metadata": {},
   "outputs": [
    {
     "data": {
      "text/plain": [
       "array(['QB', 'RB', 'WR', 'TE', 'ILB', 'OLB', 'K', 'DST', 'SS', 'LB', 'S',\n",
       "       'FS', 'DT', 'CB', 'DE'], dtype=object)"
      ]
     },
     "execution_count": 18,
     "metadata": {},
     "output_type": "execute_result"
    }
   ],
   "source": [
    "# show unique values for position\n",
    "test_df.position.unique()"
   ]
  },
  {
   "cell_type": "code",
   "execution_count": 19,
   "id": "centered-platinum",
   "metadata": {},
   "outputs": [],
   "source": [
    "# we only care about QB, RB, WR, TE so create a mask that only keeps those values\n",
    "test_df = test_df[(test_df['position'] == 'QB') | (test_df['position'] == 'RB') | (test_df['position'] == 'WR') | (test_df['position'] == 'TE')]"
   ]
  },
  {
   "cell_type": "code",
   "execution_count": 20,
   "id": "union-improvement",
   "metadata": {},
   "outputs": [
    {
     "data": {
      "text/plain": [
       "array(['QB', 'RB', 'WR', 'TE'], dtype=object)"
      ]
     },
     "execution_count": 20,
     "metadata": {},
     "output_type": "execute_result"
    }
   ],
   "source": [
    "# confirm it worked\n",
    "test_df.position.unique()"
   ]
  },
  {
   "cell_type": "code",
   "execution_count": 21,
   "id": "pressed-outdoors",
   "metadata": {},
   "outputs": [
    {
     "name": "stdout",
     "output_type": "stream",
     "text": [
      "<class 'pandas.core.frame.DataFrame'>\n",
      "Int64Index: 176 entries, 0 to 298\n",
      "Data columns (total 13 columns):\n",
      " #   Column          Non-Null Count  Dtype  \n",
      "---  ------          --------------  -----  \n",
      " 0   player          176 non-null    object \n",
      " 1   position        176 non-null    object \n",
      " 2   games           176 non-null    int64  \n",
      " 3   passing_yds     176 non-null    int64  \n",
      " 4   passing_td      176 non-null    int64  \n",
      " 5   interceptions   176 non-null    int64  \n",
      " 6   rushing_yds     176 non-null    int64  \n",
      " 7   rushing_td      176 non-null    int64  \n",
      " 8   receptions      176 non-null    int64  \n",
      " 9   receiving_yds   176 non-null    int64  \n",
      " 10  receiving_td    176 non-null    int64  \n",
      " 11  fantasy_points  176 non-null    float64\n",
      " 12  year            176 non-null    int64  \n",
      "dtypes: float64(1), int64(10), object(2)\n",
      "memory usage: 19.2+ KB\n"
     ]
    }
   ],
   "source": [
    "# check how many observations are remaining\n",
    "test_df.info()"
   ]
  },
  {
   "cell_type": "markdown",
   "id": "protecting-object",
   "metadata": {},
   "source": [
    "### Export Training and Testing DataFrames"
   ]
  },
  {
   "cell_type": "code",
   "execution_count": 22,
   "id": "fossil-roots",
   "metadata": {},
   "outputs": [],
   "source": [
    "# export training df for EDA\n",
    "full_training_df.to_csv('./data/training_full.csv')\n",
    "\n",
    "# export testing df for EDA\n",
    "test_df.to_csv('./data/test_full.csv')"
   ]
  },
  {
   "cell_type": "markdown",
   "id": "entitled-twelve",
   "metadata": {},
   "source": [
    "### Create Position Specific DataFrames\n",
    "\n",
    "___\n",
    "This section will break both the training and testing DataFrames into training and testing by position. Given the way Fantasy Football is structured scoring wise, I chose to create individual models for each position and return position specific rankings."
   ]
  },
  {
   "cell_type": "code",
   "execution_count": 23,
   "id": "magnetic-happiness",
   "metadata": {},
   "outputs": [
    {
     "name": "stdout",
     "output_type": "stream",
     "text": [
      "WR    1815\n",
      "RB    1466\n",
      "TE     946\n",
      "QB     648\n",
      "Name: position, dtype: int64 WR    73\n",
      "RB    46\n",
      "QB    36\n",
      "TE    21\n",
      "Name: position, dtype: int64\n"
     ]
    },
    {
     "data": {
      "text/plain": [
       "(WR    0.372308\n",
       " RB    0.300718\n",
       " TE    0.194051\n",
       " QB    0.132923\n",
       " Name: position, dtype: float64,\n",
       " WR    0.414773\n",
       " RB    0.261364\n",
       " QB    0.204545\n",
       " TE    0.119318\n",
       " Name: position, dtype: float64)"
      ]
     },
     "execution_count": 23,
     "metadata": {},
     "output_type": "execute_result"
    }
   ],
   "source": [
    "# check distribution of positions for training and testing data\n",
    "print(full_training_df.position.value_counts(), test_df.position.value_counts())\n",
    "\n",
    "full_training_df.position.value_counts(normalize=True), test_df.position.value_counts(normalize=True)"
   ]
  },
  {
   "cell_type": "markdown",
   "id": "labeled-billion",
   "metadata": {},
   "source": [
    "Despite the significantly fewer observations for testing vs. training data, there is a similar distribution of players in each DataFrame which should allow for a more streamlined modeling process"
   ]
  },
  {
   "cell_type": "code",
   "execution_count": 24,
   "id": "persistent-priest",
   "metadata": {},
   "outputs": [],
   "source": [
    "# create a list of the four positions we will keep\n",
    "pos = ['QB', 'RB', 'WR', 'TE']\n",
    "\n",
    "# loop through each position\n",
    "for i in pos:\n",
    "    \n",
    "    # create a mask of each position on training data\n",
    "    mask = full_training_df[full_training_df['position'] == i]\n",
    "    \n",
    "    # export each positional df as a training dataset\n",
    "    mask.to_csv(f'./data/{i}_training.csv')"
   ]
  },
  {
   "cell_type": "code",
   "execution_count": 25,
   "id": "organized-teach",
   "metadata": {},
   "outputs": [],
   "source": [
    "# run a similar loop as above except for testing data\n",
    "for i in pos:\n",
    "    \n",
    "    # mask testing data\n",
    "    mask = test_df[test_df['position'] == i]\n",
    "    \n",
    "    #export testing positional df\n",
    "    mask.to_csv(f'./data/{i}_test.csv')"
   ]
  }
 ],
 "metadata": {
  "kernelspec": {
   "display_name": "Python 3",
   "language": "python",
   "name": "python3"
  },
  "language_info": {
   "codemirror_mode": {
    "name": "ipython",
    "version": 3
   },
   "file_extension": ".py",
   "mimetype": "text/x-python",
   "name": "python",
   "nbconvert_exporter": "python",
   "pygments_lexer": "ipython3",
   "version": "3.8.5"
  }
 },
 "nbformat": 4,
 "nbformat_minor": 5
}
